{
 "cells": [
  {
   "cell_type": "markdown",
   "metadata": {},
   "source": [
    "# CO495 ASML Coursework 2 - Hidden Markov Models"
   ]
  },
  {
   "cell_type": "markdown",
   "metadata": {},
   "source": [
    "In this coursework, you are asked to implement filtering, smoothing, and optionally Viterbi decoding for discrete and continuous valued HMMs. Input data and initialization is provided and should be used for reproducibility."
   ]
  },
  {
   "cell_type": "code",
   "execution_count": 114,
   "metadata": {
    "collapsed": true
   },
   "outputs": [],
   "source": [
    "import numpy as np\n",
    "from collections import namedtuple\n",
    "from scipy.stats import norm\n",
    "from numpy import linalg as LA"
   ]
  },
  {
   "cell_type": "markdown",
   "metadata": {},
   "source": [
    "The functions below are here to guide you in your implementation of the EM and Viterbi algorithms for Hidden Markov Models. We follow Section 17.4 of _Machine Learning: A Probabilistic Perspective_ by Kevin Murphy (2012).\n",
    "\n",
    "You should write vectorized modular code to promote re-usability, efficiency, and readability.\n",
    "\n",
    "Your task is to complete the implementation and to report the results obtained from the provided initialization. You are strongly encouraged to explore different initialization schemes for the algorithms."
   ]
  },
  {
   "cell_type": "markdown",
   "metadata": {},
   "source": [
    "## Helper functions and classes"
   ]
  },
  {
   "cell_type": "markdown",
   "metadata": {},
   "source": [
    "You may use this function in your implementation."
   ]
  },
  {
   "cell_type": "code",
   "execution_count": 115,
   "metadata": {
    "collapsed": true
   },
   "outputs": [],
   "source": [
    "def normalize(A, dim=None, precision=1e-9):\n",
    "    \"\"\"This function is taken from Kevin Murphy's code for Machine Learning: a Probabilistic Perspective.\n",
    "\n",
    "    Make the entries of a (multidimensional) array sum to 1\n",
    "    A, z = normalize(A) normalize the whole array, where z is the normalizing constant\n",
    "    A, z = normalize(A, dim)\n",
    "    If dim is specified, we normalize the specified dimension only.\n",
    "    dim=0 means each column sums to one\n",
    "    dim=1 means each row sums to one\n",
    "\n",
    "\n",
    "    Set any zeros to one before dividing.\n",
    "    This is valid, since s=0 iff all A(i)=0, so\n",
    "    we will get 0/1=0\n",
    "\n",
    "    Adapted from https://github.com/probml/pmtk3\"\"\"\n",
    "    z = A.sum(dim)\n",
    "    # If z is a scalar, z.shape is an empty tuple and evaluated to False\n",
    "    if z.shape:\n",
    "        z[np.abs(z) < precision] = 1\n",
    "    elif np.abs(z) < precision:\n",
    "        return 0, 1\n",
    "    \n",
    "    return A / z, z"
   ]
  },
  {
   "cell_type": "markdown",
   "metadata": {},
   "source": [
    "The initial values are provided as namedtuples (initialization.A is the initial value for A)"
   ]
  },
  {
   "cell_type": "code",
   "execution_count": 116,
   "metadata": {
    "collapsed": true
   },
   "outputs": [],
   "source": [
    "InitGaussian = namedtuple('InitGaussian', ['A', 'Means', 'Variances', 'pi'])\n",
    "InitMultinomial = namedtuple('InitMultinomial', ['A', 'B', 'pi'])"
   ]
  },
  {
   "cell_type": "code",
   "execution_count": 117,
   "metadata": {
    "collapsed": true
   },
   "outputs": [],
   "source": [
    "#Here we load data to do test seperately.\n",
    "with np.load('init_gaussian.npz') as f:\n",
    "    init_g = InitGaussian(f['arr_0'], f['arr_1'], f['arr_2'], f['arr_3'])\n",
    "    \n",
    "with np.load('init_multinomial.npz') as f:\n",
    "    init_m = InitMultinomial(f['arr_0'], f['arr_1'], f['arr_2'])\n",
    "\n",
    "with np.load('data_gaussian.npz') as f:\n",
    "    Y_c, S_c = f['arr_0'], f['arr_1']\n",
    "\n",
    "with np.load('data_multinomial.npz') as f:\n",
    "    Y_d, S_d = f['arr_0'], f['arr_1']\n",
    "\n"
   ]
  },
  {
   "cell_type": "markdown",
   "metadata": {},
   "source": [
    "## Filtering and Smoothing"
   ]
  },
  {
   "cell_type": "markdown",
   "metadata": {},
   "source": [
    "Break down your implementation according to the functions below. Feel free to create additional ones whenever you see fit, but the general flow of the algorithm should be made apparent"
   ]
  },
  {
   "cell_type": "markdown",
   "metadata": {},
   "source": [
    "### Observation model"
   ]
  },
  {
   "cell_type": "markdown",
   "metadata": {},
   "source": [
    "The core of EM estimation on HMM operates on vectors of probabilities, so the main difference between EM for Gaussian HMM and multinomial HMM is the computation of the observation probabilities and which parameters to estimate.\n",
    "\n",
    "Complete the two functions below to compute the probabilities of the data for a given observation model and use them in the rest of the algorithm. Your filtering and smoothing steps should be model agnostic."
   ]
  },
  {
   "cell_type": "code",
   "execution_count": 118,
   "metadata": {
    "collapsed": true
   },
   "outputs": [],
   "source": [
    "def computeSmallB_Gaussian(Y, Means, Variances, Nhidden, T):\n",
    "    \"\"\"Compute the probabilities for the data points Y for a Gaussian observation model \n",
    "        with parameters Means and Variances.\n",
    "        \n",
    "        Input parameters:\n",
    "            - Y: the data\n",
    "            - Means: vector of the current estimates of the means\n",
    "            - Variances: vector of the current estimates of the variances\n",
    "            - Nhidden: number of hidden states\n",
    "            - T: length of the sequence\n",
    "        Output:\n",
    "            - b: vector of observation probabilities\n",
    "    \"\"\"\n",
    "\n",
    "    b = np.zeros((Nhidden, T))\n",
    "\n",
    "    for i in range(T):\n",
    "        for j in range(Nhidden):\n",
    "            b[j][i] = norm.pdf(Y[i], loc = Means[j], scale = np.sqrt(Variances[j]))\n",
    "    return b"
   ]
  },
  {
   "cell_type": "code",
   "execution_count": 119,
   "metadata": {
    "collapsed": true
   },
   "outputs": [],
   "source": [
    "def computeSmallB_Discrete(Y, B):\n",
    "    \"\"\"Compute the probabilities for the data points Y for a multinomial observation model \n",
    "        with observation matrix B\n",
    "        \n",
    "        Input parameters:\n",
    "            - Y: the data\n",
    "            - B: matrix of observation probabilities\n",
    "        Output:\n",
    "            - b: vector of observation probabilities\n",
    "    \"\"\"\n",
    "    \n",
    "    b = np.zeros((B.shape[0], len(Y)))\n",
    "    \n",
    "    for i in range(len(Y)):\n",
    "        for j in range(B.shape[0]):\n",
    "            b[j][i] = B[j][Y[i] - 1]\n",
    "  \n",
    "    \n",
    "    return b"
   ]
  },
  {
   "cell_type": "markdown",
   "metadata": {},
   "source": [
    "### Smoothing and filtering: Estimation step"
   ]
  },
  {
   "cell_type": "markdown",
   "metadata": {},
   "source": [
    "The E step involves smoothing and filtering. Refer to the course notes and/or to the recommended readings to implement these steps in the functions below."
   ]
  },
  {
   "cell_type": "code",
   "execution_count": 120,
   "metadata": {
    "collapsed": true
   },
   "outputs": [],
   "source": [
    "def BackwardFiltering(A, b, N, T, Z):\n",
    "    \"\"\"Perform backward filtering.\n",
    "        Input parameters:\n",
    "            - A: estimated transition matrix (between states)\n",
    "            - b: estimated observation probabilities (local evidence vector)\n",
    "            - N: number of hidden states\n",
    "            - T: length of the sequence\n",
    "        Output:\n",
    "            - beta: filtered probabilities\n",
    "    \"\"\"\n",
    "    beta = np.zeros((N, T))\n",
    "    \n",
    "    beta[:, T - 1] = np.array([1,1])\n",
    "\n",
    "    \n",
    "    for t in range(T-2, -1, -1):\n",
    "        \n",
    "        inner = beta[:, t + 1] * b[:, t+ 1] \n",
    "        outter = np.dot(A, inner.reshape(N, 1))\n",
    "        \n",
    "        beta[:, t] = outter.reshape(N)\n",
    "        \n",
    "        beta[:, t] = beta[:, t] / Z[t + 1]\n",
    "        \n",
    "    return beta"
   ]
  },
  {
   "cell_type": "code",
   "execution_count": 121,
   "metadata": {
    "collapsed": true
   },
   "outputs": [],
   "source": [
    "def ForwardFiltering(A, b, pi, N, T):\n",
    "    \"\"\"Filtering using the forward algorithm (Section 17.4.2 of K. Murphy's book)\n",
    "    Input:\n",
    "      - A: estimated transition matrix\n",
    "      - b: estimated observation probabilities (local evidence vector)\n",
    "      - pi: initial state distribution pi(j) = p(z_1 = j)\n",
    "    Output:\n",
    "      - Filtered belief state at time t: alpha = p(z_t|x_1:t)\n",
    "      - log p(x_1:T)\n",
    "      - Z: normalization constant\"\"\"\n",
    "    \n",
    "    alpha = np.zeros((N, T))\n",
    "    pi = pi.reshape(N)\n",
    "    \n",
    "    logProb = 0.0\n",
    "    \n",
    "    norm, z = normalize(pi * b[:, 0])\n",
    "    logProb += np.log(z)\n",
    "    alpha[:, 0] = norm\n",
    "    Z = np.zeros(T)\n",
    "    \n",
    "    Z[0] = z\n",
    "    \n",
    "    for t in range(1, T):\n",
    "        inner = np.dot(A.transpose(), alpha[:, t - 1].reshape(N,1))\n",
    "        alpha[:, t] = b[:, t] * inner.reshape(N)\n",
    "        \n",
    "        norm, z = normalize(alpha[:, t])\n",
    "        \n",
    "        logProb += np.log(z)\n",
    "        \n",
    "        Z[t] = z\n",
    "            \n",
    "        alpha[:, t] = norm\n",
    "\n",
    "            \n",
    "    return alpha, logProb, Z"
   ]
  },
  {
   "cell_type": "code",
   "execution_count": 122,
   "metadata": {
    "collapsed": true
   },
   "outputs": [],
   "source": [
    "def ForwardBackwardSmoothing(A, b, pi, N, T):\n",
    "    \"\"\"Smoothing using the forward-backward algorithm.\n",
    "    Input:\n",
    "      - A: estimated transition matrix\n",
    "      - b: local evidence vector (observation probabilities)\n",
    "      - pi: initial distribution of states\n",
    "      - N: number of hidden states\n",
    "      - T: length of the sequence\n",
    "    Output:\n",
    "      - alpha: filtered belief state as defined in ForwardFiltering\n",
    "      - beta: conditional likelihood of future evidence as defined in BackwardFiltering\n",
    "      - gamma: gamma_t(j) proportional to alpha_t(j) * beta_t(j)\n",
    "      - lp: log probability defined in ForwardFiltering\n",
    "      - Z: constant defined in ForwardFiltering\"\"\"\n",
    "    \n",
    "    \n",
    "    alpha, lp, Z = ForwardFiltering(A, b, pi, N, T)\n",
    "    beta = BackwardFiltering(A, b, N, T, Z)\n",
    "    gamma = alpha * beta\n",
    "    return alpha, beta, gamma, lp, Z"
   ]
  },
  {
   "cell_type": "markdown",
   "metadata": {},
   "source": [
    "Use the output of SmoothedMarginals in the maximization step for A."
   ]
  },
  {
   "cell_type": "code",
   "execution_count": 123,
   "metadata": {
    "collapsed": true
   },
   "outputs": [],
   "source": [
    "def SmoothedMarginals(A, b, alpha, beta, T, Nhidden):\n",
    "    \"Two-sliced smoothed marginals p(z_t = i, z_t+1 = j | x_1:T)\"\n",
    "    \n",
    "    marginal = np.zeros((Nhidden, Nhidden, T-1));\n",
    "\n",
    "    for t in range(T-1):\n",
    "        marginal[:, :, t] = normalize(A * np.dot(alpha[:, t].reshape(Nhidden,1), (b[:, t+1] * beta[:, t+1]).reshape(1,2)))[0]\n",
    "    return marginal"
   ]
  },
  {
   "cell_type": "markdown",
   "metadata": {},
   "source": [
    "## EM estimation"
   ]
  },
  {
   "cell_type": "markdown",
   "metadata": {},
   "source": [
    "Implement the main algorithm in the skeletons below.\n",
    "How can you measure the performance of your model and choose an appropriate convergence criterion?\n",
    "_Hint: the logProb returned by the ForwardBackwardSmoothing function can be used_."
   ]
  },
  {
   "cell_type": "code",
   "execution_count": 124,
   "metadata": {
    "collapsed": true
   },
   "outputs": [],
   "source": [
    "def EM_Maximisation_gaussian(Y, gamma, smoothedMarginal, Nhidden, T, N):\n",
    "    \n",
    "    norm_term = np.zeros(Nhidden)\n",
    "    miu_term = np.zeros(Nhidden)\n",
    "    for l in range(N):\n",
    "        for t in range(T):\n",
    "            for k in range(Nhidden):\n",
    "                norm_term[k] += gamma[l][k][t]\n",
    "                miu_term[k] += gamma[l][k][t] * Y[l][t]\n",
    "                \n",
    "    Means = miu_term / norm_term\n",
    "    \n",
    "    sigma_term = np.zeros(Nhidden)\n",
    "    for l in range(N):\n",
    "        for t in range(T):\n",
    "            for k in range(Nhidden):\n",
    "                sigma_term[k] += gamma[l][k][t] * (Y[l][t] - Means[k])**2\n",
    "    \n",
    "    Variances = sigma_term / norm_term\n",
    "    \n",
    "    pi_term = np.zeros(Nhidden)\n",
    "    pi_norm = 0.0\n",
    "    \n",
    "    for l in range(N):\n",
    "        for k in range(Nhidden):\n",
    "            pi_term[k] += gamma[l][k][0]\n",
    "        for r in range(Nhidden):\n",
    "            pi_norm += gamma[l][r][0]\n",
    "    \n",
    "    pi = pi_term / pi_norm\n",
    "    \n",
    "    trans = np.zeros((Nhidden, Nhidden))\n",
    "    trans_norm = np.zeros(Nhidden)\n",
    "    \n",
    "    for l in range(N):\n",
    "        for t in range(T - 1):\n",
    "            for j in range(Nhidden):\n",
    "                for k in range(Nhidden):\n",
    "                    trans[j][k] += smoothedMarginal[l][j][k][t]\n",
    "                for r in range(Nhidden):\n",
    "                    trans_norm[j] += smoothedMarginal[l][j][r][t]\n",
    "    for i in range(Nhidden):\n",
    "        trans[i,:] = trans[i,:] / trans_norm[i] \n",
    "    \n",
    "    return trans, Means, Variances, pi\n",
    "            \n",
    "        "
   ]
  },
  {
   "cell_type": "markdown",
   "metadata": {},
   "source": [
    "### Gaussian observation model"
   ]
  },
  {
   "cell_type": "code",
   "execution_count": 125,
   "metadata": {
    "collapsed": true
   },
   "outputs": [],
   "source": [
    "def EM_estimate_gaussian(Y, Nhidden, Niter, epsilon, init):\n",
    "    \n",
    "    # Dimensions of the data\n",
    "    N, T = Y.shape\n",
    "    \n",
    "    # Initialization\n",
    "    \n",
    "    # Initial transition matrix should be stochastic (rows sum to 1)\n",
    "    A = init.A\n",
    "    \n",
    "    # Initial means and variances of the emission probabilities\n",
    "    Means = init.Means\n",
    "    Variances = init.Variances;\n",
    "    \n",
    "    # Class prior\n",
    "    pi = init.pi\n",
    "    \n",
    "    \n",
    "\n",
    "    ###############################################\n",
    "    # EM algorithm\n",
    "    \n",
    "    \n",
    "    i = 0\n",
    "    # Initialize convergence criterion here\n",
    "    \n",
    "    while i<Niter: # and condition on criterion and precision epsilon\n",
    "        # Iterate here\n",
    "        \n",
    "        gamma = []\n",
    "        smoothedMarginal = []\n",
    "        \n",
    "        for j in range(N):\n",
    "            b = computeSmallB_Gaussian(Y[j], Means, Variances, Nhidden, T)\n",
    "            \n",
    "            alpha, beta, gamma_j, logProb, Z = ForwardBackwardSmoothing(A, b, pi, Nhidden, T)\n",
    "                       \n",
    "            gamma.append(gamma_j)\n",
    "            \n",
    "            sMar = SmoothedMarginals(A, b, alpha, beta, T, Nhidden)\n",
    "            \n",
    "            smoothedMarginal.append(sMar)\n",
    "            \n",
    "            \n",
    "        A_n, Means_n, Variances_n, pi_n = EM_Maximisation_gaussian(Y, gamma, smoothedMarginal, Nhidden, T, N)\n",
    "        \n",
    "        if LA.norm(A_n - A) < epsilon or LA.norm(Means_n - Means) < epsilon or  \\\n",
    "                  LA.norm(Variances_n - Variances) < epsilon or LA.norm(pi_n - pi) < epsilon:\n",
    "            break\n",
    "        else:\n",
    "            #print (pi)\n",
    "            A = A_n\n",
    "            Means = Means_n\n",
    "            Variances = Variances_n\n",
    "            pi = pi_n\n",
    "            i += 1\n",
    "            \n",
    "#     print (i)       \n",
    "    return A, Means, Variances, pi"
   ]
  },
  {
   "cell_type": "markdown",
   "metadata": {},
   "source": [
    "The cell below is a test cell for EM estimation of Gaussian"
   ]
  },
  {
   "cell_type": "code",
   "execution_count": 126,
   "metadata": {
    "collapsed": true
   },
   "outputs": [],
   "source": [
    "# A_g, Means_g, Variances_g, Pi_g = EM_estimate_gaussian(Y_c, 2, 100, 1e-6, init_g)\n",
    "# print (A_g)\n",
    "# print (Means_g)\n",
    "# print (Variances_g) \n",
    "# print (Pi_g)"
   ]
  },
  {
   "cell_type": "markdown",
   "metadata": {},
   "source": [
    "### Multinomial observation model"
   ]
  },
  {
   "cell_type": "markdown",
   "metadata": {},
   "source": [
    "In the maximization step for B you will have to compute a quantity involving indicators on the values of Y. One efficient way to do it is to pre-compute a representation of Y using _one-hot encoding_. In MATLAB:\n",
    "\n",
    "```% X sparse coding\n",
    "Nv = length(unique(Y));\n",
    "X = zeros(T, Nv);\n",
    "for i=1:T\n",
    "    X(i, Y(i)) = 1;\n",
    "end\n",
    "% Maximization: emission matrix\n",
    "B1 = B1 + gamma * X;```"
   ]
  },
  {
   "cell_type": "code",
   "execution_count": 127,
   "metadata": {
    "collapsed": true
   },
   "outputs": [],
   "source": [
    "def EM_Maximisation_multinomial(Y, gamma, smoothedMarginal, Nhidden, T, N):\n",
    "    Nv = len(np.unique(Y))\n",
    "    \n",
    "    emission_term = np.zeros((Nhidden, Nv))\n",
    "    norm_term = np.zeros(Nhidden)\n",
    "    for l in range(N):\n",
    "        norm_term += np.sum(gamma[l], axis = 1)\n",
    "        \n",
    "        X = np.zeros((T, Nv))\n",
    "        for i in range(T):\n",
    "            X[i, Y[l][i] - 1] = 1\n",
    "        emission_term += np.dot(gamma[l], X)\n",
    "    \n",
    "    for i in range(Nhidden):\n",
    "        emission_term[i,:] /= norm_term[i]\n",
    "        \n",
    "    pi_term = np.zeros(Nhidden)\n",
    "    pi_norm = 0.0\n",
    "    \n",
    "    for l in range(N):\n",
    "        pi_norm += np.sum(gamma[l][:,0])\n",
    "        pi_term += gamma[l][:,0]\n",
    "        \n",
    "    pi = pi_term / pi_norm\n",
    "    \n",
    "    trans = np.zeros((Nhidden, Nhidden))\n",
    "    trans_norm = np.zeros(Nhidden)\n",
    "    \n",
    "    for l in range(N):\n",
    "        for t in range(T - 1):\n",
    "            for j in range(Nhidden):\n",
    "                for k in range(Nhidden):\n",
    "                    trans[j][k] += smoothedMarginal[l][j][k][t]\n",
    "                for r in range(Nhidden):\n",
    "                    trans_norm[j] += smoothedMarginal[l][j][r][t]\n",
    "    for i in range(Nhidden):\n",
    "        trans[i,:] = trans[i,:] / trans_norm[i] \n",
    "    \n",
    "    \n",
    "    return trans, emission_term, pi\n",
    "    "
   ]
  },
  {
   "cell_type": "code",
   "execution_count": 128,
   "metadata": {
    "collapsed": true
   },
   "outputs": [],
   "source": [
    "def EM_estimate_multinomial(Y, Nhidden, Niter, epsilon, init):\n",
    "    \n",
    "    # Dimensions of the data\n",
    "    N, T = Y.shape\n",
    "    \n",
    "    # Initialization\n",
    "    \n",
    "    # Initial transition matrix should be stochastic (rows sum to 1)\n",
    "    A = init.A\n",
    "    \n",
    "    # Observation matrix B\n",
    "    B = init.B\n",
    "    \n",
    "    # Class prior\n",
    "    pi = init.pi\n",
    "    \n",
    "    #print (A, B, pi)\n",
    "    \n",
    "    ###############################################\n",
    "    # EM algorithm\n",
    "    \n",
    "    i = 0\n",
    "    # Initialize convergence criterion here\n",
    "    \n",
    "    while i<Niter: # and condition on criterion and precision epsilon\n",
    "        # Iterate here\n",
    "        gamma = []\n",
    "        smoothedMarginal = []\n",
    "        for j in range(N):\n",
    "            b = computeSmallB_Discrete(Y[j], B)\n",
    "            \n",
    "            alpha, beta, gamma_j, logProb, Z = ForwardBackwardSmoothing(A, b, pi, Nhidden, T)\n",
    "            \n",
    "            gamma.append(gamma_j)\n",
    "            \n",
    "            sMar = SmoothedMarginals(A, b, alpha, beta, T, Nhidden)\n",
    "            \n",
    "            smoothedMarginal.append(sMar)\n",
    "            \n",
    "            \n",
    "        A_n, B_n, pi_n = EM_Maximisation_multinomial(Y, gamma, smoothedMarginal, Nhidden, T, N)\n",
    "        \n",
    "        if LA.norm(A_n - A) < epsilon or LA.norm(B_n - B) < epsilon or LA.norm(pi_n - pi) < epsilon:\n",
    "            break\n",
    "        else:\n",
    "            A = A_n\n",
    "            B = B_n\n",
    "            pi = pi_n\n",
    "            i += 1\n",
    "#     print (i)\n",
    "    return A, B, pi"
   ]
  },
  {
   "cell_type": "markdown",
   "metadata": {},
   "source": [
    "## Viterbi decoding"
   ]
  },
  {
   "cell_type": "markdown",
   "metadata": {},
   "source": [
    "Viterbi decoding should be performed on the smoothed data and most of the algorithm doesn't depend on the output model. To help you, we identified the steps that are model specific. Implement Viterbi decoding by completing the skeleton below. 'smallB' is a function and should be used in the standard way: smallB(x)."
   ]
  },
  {
   "cell_type": "code",
   "execution_count": 130,
   "metadata": {
    "collapsed": true
   },
   "outputs": [],
   "source": [
    "def ViterbiDecode(Y, Nhidden, outModel, init):\n",
    "    \n",
    "    if outModel == 'gauss':\n",
    "        A, Mu, Sigma, Pi = EM_estimate_gaussian(Y, Nhidden, 100, 1e-6, init)\n",
    "        smallB = lambda X : computeSmallB_Gaussian(X, Mu, Sigma, Nhidden, len(X))\n",
    "    elif outModel == 'multinomial':\n",
    "        A, B, Pi = EM_estimate_multinomial(Y, Nhidden, 100, 1e-6, init)\n",
    "        smallB = lambda X : computeSmallB_Discrete(X, B)\n",
    "    else:\n",
    "        raise ValueError('Invalid observation model: must be either \"gauss\" or \"multinomial\"')\n",
    "     # Implement Viterbi decoding here.\n",
    "    N, T = Y.shape\n",
    "    S_all = np.zeros((N, Nhidden, T))\n",
    "    Pi = Pi.reshape(Nhidden)\n",
    "    \n",
    "    A_log = np.log2(A.transpose())\n",
    "\n",
    "    for l in range(N):\n",
    "        \n",
    "        b = smallB(Y[l])\n",
    "        S_all[l][:, 0] = np.log2(Pi) + np.log2(b[:, 0])\n",
    "        \n",
    "        for t in range(1, T):\n",
    "            pre = S_all[l][:, t-1].reshape(1,Nhidden)\n",
    "            pre = np.append(pre, pre, axis = 0)\n",
    "\n",
    "            Max = A_log + pre\n",
    "            Max = np.max(Max, axis = 1)\n",
    "            \n",
    "            S_all[l][:, t] = Max + np.log2(b[:, t])   \n",
    "    \n",
    "    S = np.zeros((N, T))\n",
    "    for l in range(N):\n",
    "        for t in range(T):\n",
    "            seq = np.where(S_all[l][:,t] == np.max(S_all[l][:,t]))[0] + 1\n",
    "            S[l][t] = seq\n",
    "\n",
    "   \n",
    "    return S"
   ]
  },
  {
   "cell_type": "markdown",
   "metadata": {},
   "source": [
    "## Demo code"
   ]
  },
  {
   "cell_type": "code",
   "execution_count": 133,
   "metadata": {},
   "outputs": [
    {
     "name": "stdout",
     "output_type": "stream",
     "text": [
      "*** Viterbi decoding accuracy (Gaussian): 0.9949\n"
     ]
    }
   ],
   "source": [
    "with np.load('init_gaussian.npz') as f:\n",
    "    init_g = InitGaussian(f['arr_0'], f['arr_1'], f['arr_2'], f['arr_3'])\n",
    "    \n",
    "with np.load('init_multinomial.npz') as f:\n",
    "    init_m = InitMultinomial(f['arr_0'], f['arr_1'], f['arr_2'])\n",
    "\n",
    "with np.load('data_gaussian.npz') as f:\n",
    "    Y_c, S_c = f['arr_0'], f['arr_1']\n",
    "\n",
    "with np.load('data_multinomial.npz') as f:\n",
    "    Y_d, S_d = f['arr_0'], f['arr_1']\n",
    "    \n",
    "A_g, Means_g, Variances_g, Pi_g = EM_estimate_gaussian(Y_c, 2, 100, 1e-6, init_g)\n",
    "A_m, B_m, Pi_m = EM_estimate_multinomial(Y_d, 2, 100, 1e-6, init_m)\n",
    "\n",
    "S_g = ViterbiDecode(Y_c, 2, 'gauss', init_g)\n",
    "S_m = ViterbiDecode(Y_d, 2, 'multinomial', init_m)\n",
    "\n",
    "print('*** Viterbi decoding accuracy (Gaussian): {}'.format( float((S_c == S_g).sum()) / float(S_c.size )))\n",
    "print('*** Viterbi decoding accuracy (Multinomial): {}'.format( float((S_d == S_m).sum()) / float(S_d.size) ))"
   ]
  },
  {
   "cell_type": "code",
   "execution_count": null,
   "metadata": {
    "collapsed": true
   },
   "outputs": [],
   "source": []
  }
 ],
 "metadata": {
  "kernelspec": {
   "display_name": "Python 2",
   "language": "python",
   "name": "python2"
  },
  "language_info": {
   "codemirror_mode": {
    "name": "ipython",
    "version": 2
   },
   "file_extension": ".py",
   "mimetype": "text/x-python",
   "name": "python",
   "nbconvert_exporter": "python",
   "pygments_lexer": "ipython2",
   "version": "2.7.14"
  }
 },
 "nbformat": 4,
 "nbformat_minor": 2
}
